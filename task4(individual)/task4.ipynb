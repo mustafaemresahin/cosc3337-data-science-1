{
 "cells": [
  {
   "cell_type": "markdown",
   "metadata": {},
   "source": [
    "## Task 4 Outlier Detection for a Houston Weather Dataset"
   ]
  },
  {
   "cell_type": "markdown",
   "metadata": {},
   "source": [
    "### a.) Design a “good” distance function for HW2021!"
   ]
  },
  {
   "cell_type": "code",
   "execution_count": null,
   "metadata": {},
   "outputs": [],
   "source": [
    "pip install pandas\n",
    "pip install numpy"
   ]
  },
  {
   "cell_type": "code",
   "execution_count": 99,
   "metadata": {},
   "outputs": [],
   "source": [
    "import pandas as pd #install and import libraries\n",
    "import numpy as np\n",
    "df=pd.read_csv(\"HW2021.csv\") ##read csv file"
   ]
  },
  {
   "cell_type": "markdown",
   "metadata": {},
   "source": [
    "**Attribute Relevance and Weight Assignments:**\n",
    "- Date: Not relevant (ignore)\n",
    "- cloudcover: Medium (.5)\n",
    "- rainfall: Major (.8)\n",
    "- min_temp: Major (.7)\n",
    "- wind_speed: Major (.8)\n",
    "- humidity: Major (.7)<br>\n",
    "\n"
   ]
  },
  {
   "cell_type": "markdown",
   "metadata": {},
   "source": [
    "**Attribute Normalization**\n",
    "- DATE: remove\n",
    "- cloudcover: 1=Fair, 2=Fair/Windy, 3=Partly Cloudy, 4=Partly Cloudy/Windy, 5=Cloudy, 6=Cloudy/Windy, 7=Mostly Cloudy, 8=Mostly Cloudy/Windy, 9=Fog, 10=Haze, 11=Light Rain, 12=Thunder in the vicinity 13=Thunder, 14=Light Rain with Thunder, 15=Rain, 16=Thunder/Windy, 17=T-Storm, 18=Heavy T-Storm"
   ]
  },
  {
   "cell_type": "markdown",
   "metadata": {},
   "source": [
    "- rainfall\n",
    "    - 0-5 inches"
   ]
  },
  {
   "cell_type": "code",
   "execution_count": 100,
   "metadata": {},
   "outputs": [
    {
     "name": "stdout",
     "output_type": "stream",
     "text": [
      "Mean rainfall: 0.261\n",
      "Standard Deviation of Rainfall 0.747\n"
     ]
    }
   ],
   "source": [
    "#calculate std and mean for rainfall for normalization\n",
    "rainfall_mean = round(df['rainfall'].mean(),3)\n",
    "rainfall_std = round(df['rainfall'].std(),3)\n",
    "print(\"Mean rainfall:\", rainfall_mean)\n",
    "print(\"Standard Deviation of Rainfall\", rainfall_std)"
   ]
  },
  {
   "cell_type": "markdown",
   "metadata": {},
   "source": [
    "- min_temp\n",
    "    - 34-83 degrees fahrenheit"
   ]
  },
  {
   "cell_type": "code",
   "execution_count": 101,
   "metadata": {},
   "outputs": [
    {
     "name": "stdout",
     "output_type": "stream",
     "text": [
      "Mean min_temp: 64.14\n",
      "Standard Deviation of min_temp 15.324\n"
     ]
    }
   ],
   "source": [
    "#calculate std and mean for min_temp for normalization\n",
    "min_temp_mean = round(df['min_temp'].mean(),3)\n",
    "min_temp_std = round(df['min_temp'].std(),3)\n",
    "print(\"Mean min_temp:\", min_temp_mean)\n",
    "print(\"Standard Deviation of min_temp\", min_temp_std)"
   ]
  },
  {
   "cell_type": "markdown",
   "metadata": {},
   "source": [
    "- wind_speed\n",
    "    - 0 to 29 mph"
   ]
  },
  {
   "cell_type": "code",
   "execution_count": 102,
   "metadata": {},
   "outputs": [
    {
     "name": "stdout",
     "output_type": "stream",
     "text": [
      "Mean windspeed: 11.63\n",
      "Standard Deviation of windspeed 5.408\n"
     ]
    }
   ],
   "source": [
    "##calculate std and mean for windspeed for normalization\n",
    "windspeed_mean = round(df['windspeed'].mean(),3)\n",
    "windspeed_std = round(df['windspeed'].std(),3)\n",
    "print(\"Mean windspeed:\", windspeed_mean)\n",
    "print(\"Standard Deviation of windspeed\", windspeed_std)"
   ]
  },
  {
   "cell_type": "markdown",
   "metadata": {},
   "source": [
    "- Humidity\n",
    "    - 0 to 100 percent"
   ]
  },
  {
   "cell_type": "code",
   "execution_count": 103,
   "metadata": {},
   "outputs": [
    {
     "name": "stdout",
     "output_type": "stream",
     "text": [
      "Mean humidity: 53.542\n",
      "Standard Deviation of humidity 17.02\n"
     ]
    }
   ],
   "source": [
    "#calculate std and mean for humidity for normalization\n",
    "humidity_mean = round(df['humidity'].mean(),3)\n",
    "humidity_std = round(df['humidity'].std(),3)\n",
    "print(\"Mean humidity:\", humidity_mean)\n",
    "print(\"Standard Deviation of humidity\", humidity_std)"
   ]
  },
  {
   "cell_type": "markdown",
   "metadata": {},
   "source": [
    "**hw(date, cloudcover, rainfall, min_temp, windspeed, humidity)**\n",
    "- Use Manhattan distance function for z-score normalized attributes\n",
    "    - d_cloudcover(c1,c2) = |$\\Phi$(c1), -  $\\Phi$(c2)|\n",
    "        - wtih 1=$\\Phi$(Heavy T-Storm), 16/17=$\\Phi$(T-Storm), 15/17=$\\Phi$(Thunder/Windy), 14/17=$\\Phi$(Rain), 13/17=$\\Phi$(Light Rain with Thunder), 12/17=$\\Phi$(Thunder), 11/17=$\\Phi$(Thunder in the Vicinity), 10/17=$\\Phi$(Light Rain), 9/17=$\\Phi$(Haze), 8/17=$\\Phi$(Fog), 7/17=$\\Phi$(Mostly Cloudy/Windy), 6/17=$\\Phi$(Mostly Cloudy), 5/17=$\\Phi$(Cloudy/Windy), 4/17=$\\Phi$(cloudy), 3/17=$\\Phi$(Partly Cloudy/Windy), 2/17=$\\Phi$(Partly Cloudy), 1/17=$\\Phi$(Fair/Windy), 0=$\\Phi$(fair)\n",
    "    - d_rainfall(r1,r2) = | ((r1-0.261)/.0747) - ((r2-0.261)/0.747) |\n",
    "    - d_min_temp(t1,t2) = | ((t1-64.140)/15.324) - ((t2-64.140)/15.234) |\n",
    "    - d_windspeed(w1,w2) = | ((w1-11.630)/5.4008) - ((w2-11.630)/5.4008) |\n",
    "    - d_humidity(h1,h2) = | ((h1-53.542)/17.02) - ((w2-53.542)/17.02) |\n",
    "- **weight assignment**: cloudcover=.5, rainfall=.8, min_temp=.7, wind_speed=.8, humidity-.7"
   ]
  },
  {
   "cell_type": "code",
   "execution_count": 104,
   "metadata": {},
   "outputs": [],
   "source": [
    "#to deal with ordinal values of cloudcover\n",
    "CloudCover_Mapping ={ \n",
    "    \"Heavy T-Storm\": 1,\n",
    "    \"T-Storm\": 16/17,\n",
    "    \"Thunder / Windy\": 15/17,\n",
    "    \"Rain\": 14/17,\n",
    "    \"Light Rain with Thunder\": 13/17,\n",
    "    \"Thunder\": 12/17,\n",
    "    \"Thunder in the Vicinity\": 11/17,\n",
    "    \"Light Rain\": 10/17,\n",
    "    \"Haze\": 9/17,\n",
    "    \"Fog\": 8/17,\n",
    "    \"Mostly Cloudy / Windy\": 7/17,\n",
    "    \"Mostly Cloudy\": 6/17,\n",
    "    \"Cloudy / Windy\": 5/17,\n",
    "    \"Cloudy\": 4/17,\n",
    "    \"Partly Cloudy / Windy\": 3/17,\n",
    "    \"Partly Cloudy\": 2/17,\n",
    "    \"Fair / Windy\": 1/17,\n",
    "    \"Fair\": 0\n",
    "}\n",
    "\n",
    "def d_cloudcover(c1,c2): #cloudcover distance function\n",
    "    cover1=CloudCover_Mapping[c1]\n",
    "    cover2=CloudCover_Mapping[c2]\n",
    "    return abs(cover1-cover2)\n",
    "\n",
    "def d_rainfall(r1,r2): #rainfall distance function\n",
    "    mean_rainfall=0.261\n",
    "    std_rainfall=0.747\n",
    "    return abs((r1 - mean_rainfall) / std_rainfall - (r2 - mean_rainfall) / std_rainfall)\n",
    "\n",
    "def d_min_temp(t1, t2): #min_tmep distance function\n",
    "    mean_temp = 64.140\n",
    "    std_temp = 15.324\n",
    "    return abs((t1 - mean_temp) / std_temp - (t2 - mean_temp) / std_temp)\n",
    "\n",
    "def d_windspeed(w1, w2): #Winspeed distance\n",
    "    mean_wind = 11.630\n",
    "    std_wind = 5.4008\n",
    "    return abs((w1 - mean_wind) / std_wind - (w2 - mean_wind) / std_wind)\n",
    "\n",
    "def d_humidity(h1, h2): #humidity distance\n",
    "    mean_humidity = 53.542\n",
    "    std_humidity = 17.02\n",
    "    return abs((h1 - mean_humidity) / std_humidity - (h2 - mean_humidity) / std_humidity)\n"
   ]
  },
  {
   "cell_type": "markdown",
   "metadata": {},
   "source": [
    "**Full Distance Function:**\n",
    "- Let hw1=(c1,r1,t1,w1,h1) and hw2=(c2,r2,t2,w2,h2)\n",
    "- d(hw1,hw2)= ( (0.5 * d_cloudcover(c1,c2)) + (0.8 * d_rainfall(r1,r2)) + (0.7 * d_min_temp(t1,t2)) + (0.8 * d_windspeed(w1,w2)) + (0.7 * d_humidity(h1,h2)) ) / 3.5"
   ]
  },
  {
   "cell_type": "code",
   "execution_count": 105,
   "metadata": {},
   "outputs": [],
   "source": [
    "#final distance function to find distance between 2 different days of weather\n",
    "def distance_function(hw1,hw2): #hw1 and hw2 are dictionaries for 2 different days\n",
    "    #caluclating all the distances of each attribute\n",
    "    cloudcover_dist = d_cloudcover(hw1['cloudcover'], hw2['cloudcover'])\n",
    "    rainfall_dist = d_rainfall(hw1['rainfall'], hw2['rainfall'])\n",
    "    min_temp_dist = d_min_temp(hw1['min_temp'], hw2['min_temp'])\n",
    "    windspeed_dist = d_windspeed(hw1['wind_speed'], hw2['wind_speed'])\n",
    "    humidity_dist = d_humidity(hw1['humidity'], hw2['humidity'])\n",
    "    #apply weights to all attributes and adding them\n",
    "    total_distance = ((.5*cloudcover_dist) + (.8 *rainfall_dist) + (.7 * min_temp_dist) + (.8 * windspeed_dist) + (.7 * humidity_dist))/3.5\n",
    "\n",
    "    return total_distance"
   ]
  },
  {
   "cell_type": "markdown",
   "metadata": {},
   "source": [
    "### b.)Design and implement a distance-based outlier detection technique for HW2021! The technique if applied to the HW2021 dataset should add a column to the examples in the dataset named OLS (Outlier Score) which contains a single number which measures the strength of our belief that the particular example is an outlier. \n"
   ]
  },
  {
   "cell_type": "code",
   "execution_count": 106,
   "metadata": {},
   "outputs": [],
   "source": [
    "#function to get a row from the csv and convert it to a dictionary for the distance function\n",
    "def row_convert(row_data):\n",
    "    return{\n",
    "        'cloudcover': row_data['cloudcover'],\n",
    "        'rainfall': row_data['rainfall'],\n",
    "        'min_temp': row_data['min_temp'],\n",
    "        'wind_speed': row_data['windspeed'],\n",
    "        'humidity': row_data['humidity']\n",
    "    }"
   ]
  },
  {
   "cell_type": "code",
   "execution_count": 107,
   "metadata": {},
   "outputs": [],
   "source": [
    "#Outlier score function\n",
    "def outlier_score(df, k): #k is hyper parameter, k nearest- neighbors\n",
    "    n = len(df)  \n",
    "    outlier_scores = []\n",
    "    \n",
    "    for i in range(n): #iterate through all rows in data\n",
    "        hw = row_convert(df.iloc[i])\n",
    "        \n",
    "        #make numpy array of distances between the currernt row and all other rows in the dataset\n",
    "        distances = np.array([distance_function(hw, row_convert(df.iloc[j])) for j in range(n) if i != j]) #exclude comparing the current row to itself\n",
    "\n",
    "        distances.sort()\n",
    "        \n",
    "        k_nearest_distances = distances[:k] #get k nearest distances\n",
    "        outlier_score = np.mean(k_nearest_distances) #get mean of it to get outlier score\n",
    "        outlier_score = round(outlier_score,3)   \n",
    "\n",
    "        outlier_scores.append(outlier_score) #append to a list of outlier scores\n",
    "    return outlier_scores\n",
    "    "
   ]
  },
  {
   "cell_type": "markdown",
   "metadata": {},
   "source": [
    "### c.) Apply the outlier detection technique to the HW2021 dataset. Since distance-based outlier detection techniques use hyper parameters: apply your technique 3 times to the 2 dataset using 3 different hyper parameter settings, obtaining three different augmented HW2021datasets with the OLS column added."
   ]
  },
  {
   "cell_type": "code",
   "execution_count": 109,
   "metadata": {},
   "outputs": [
    {
     "name": "stdout",
     "output_type": "stream",
     "text": [
      "       date  min_temp  rainfall  windspeed  humidity     cloudcover  OLS_k5  OLS_k50  OLS_k100\n",
      "0  1/1/2021        41       0.0          8        51  Mostly Cloudy   0.188    0.368     0.459\n",
      "1  1/2/2021        41       0.0          7        42           Fair   0.118    0.341     0.446\n",
      "2  1/3/2021        43       0.0         13        37           Fair   0.147    0.299     0.407\n",
      "3  1/4/2021        49       0.0          3        43           Fair   0.182    0.392     0.491\n",
      "4  1/5/2021        51       0.0         13        38           Fair   0.100    0.265     0.355\n"
     ]
    }
   ],
   "source": [
    "df = pd.read_csv('HW2021.csv')\n",
    "\n",
    "k_values = [5, 50, 100]  #hyper parameters of k nearest neighbors\n",
    "\n",
    "#iterate through each hyperparameter\n",
    "for k in k_values:\n",
    "    column_name = f'OLS_k{k}'\n",
    "    df[column_name] = outlier_score(df, k) #fill in a column with outlier scores\n",
    "\n",
    "#Save updated dataframe to a csv\n",
    "df.to_csv('HW2021_with_OLS.csv', index=False)\n",
    "\n",
    "#just to check to see if it worked properly\n",
    "print(df.head().to_string())"
   ]
  },
  {
   "cell_type": "markdown",
   "metadata": {},
   "source": [
    "### d.)Sort the three obtained augmented datasets using the OLS attribute. Discuss the top 4 examples of each augmented dataset; explain why you believe these particular examples were viewed as likely outlier candidates. Also discuss the bottom 2 examples in each augmented dataset; try to explain why these two examples were rated to be “most normal” ones."
   ]
  },
  {
   "cell_type": "code",
   "execution_count": 112,
   "metadata": {},
   "outputs": [
    {
     "name": "stdout",
     "output_type": "stream",
     "text": [
      "Top 4 outliers for k= 5 \n",
      "\n",
      "           date  min_temp  rainfall  windspeed  humidity             cloudcover  OLS_k5  OLS_k50  OLS_k100\n",
      "226   8/15/2021         0       4.9          7        52          Mostly Cloudy   1.512    2.136     2.311\n",
      "299  10/27/2021        65       3.6         21        36  Partly Cloudy / Windy   1.010    1.399     1.527\n",
      "103   4/14/2021         0       1.2          7        88          Heavy T-Storm   0.839    1.374     1.542\n",
      "179   6/29/2021        77       3.2          0        82          Mostly Cloudy   0.776    1.214     1.437\n",
      "\n",
      "\n",
      "2 most normal for k= 5 \n",
      "\n",
      "          date  min_temp  rainfall  windspeed  humidity     cloudcover  OLS_k5  OLS_k50  OLS_k100\n",
      "175  6/25/2021        81       0.0         15        54  Mostly Cloudy   0.044    0.189     0.277\n",
      "219   8/8/2021        81       0.0         15        54  Mostly Cloudy   0.044    0.189     0.277\n",
      "\n",
      "\n",
      "Top 4 outliers for k= 50 \n",
      "\n",
      "           date  min_temp  rainfall  windspeed  humidity             cloudcover  OLS_k5  OLS_k50  OLS_k100\n",
      "226   8/15/2021         0       4.9          7        52          Mostly Cloudy   1.512    2.136     2.311\n",
      "178   6/28/2021        75       4.7          7        87             Light Rain   0.676    1.455     1.712\n",
      "299  10/27/2021        65       3.6         21        36  Partly Cloudy / Windy   1.010    1.399     1.527\n",
      "103   4/14/2021         0       1.2          7        88          Heavy T-Storm   0.839    1.374     1.542\n",
      "\n",
      "\n",
      "2 most normal for k= 50 \n",
      "\n",
      "          date  min_temp  rainfall  windspeed  humidity     cloudcover  OLS_k5  OLS_k50  OLS_k100\n",
      "149  5/30/2021        75       0.0         14        63  Mostly Cloudy   0.072    0.175     0.253\n",
      "85   3/27/2021        71       0.0         15        61  Mostly Cloudy   0.090    0.171     0.253\n",
      "\n",
      "\n",
      "Top 4 outliers for k= 100 \n",
      "\n",
      "           date  min_temp  rainfall  windspeed  humidity             cloudcover  OLS_k5  OLS_k50  OLS_k100\n",
      "226   8/15/2021         0       4.9          7        52          Mostly Cloudy   1.512    2.136     2.311\n",
      "178   6/28/2021        75       4.7          7        87             Light Rain   0.676    1.455     1.712\n",
      "103   4/14/2021         0       1.2          7        88          Heavy T-Storm   0.839    1.374     1.542\n",
      "299  10/27/2021        65       3.6         21        36  Partly Cloudy / Windy   1.010    1.399     1.527\n",
      "\n",
      "\n",
      "2 most normal for k= 100 \n",
      "\n",
      "          date  min_temp  rainfall  windspeed  humidity     cloudcover  OLS_k5  OLS_k50  OLS_k100\n",
      "218   8/7/2021        79       0.0         13        54  Mostly Cloudy   0.086    0.181      0.25\n",
      "145  5/26/2021        75       0.0         14        55  Partly Cloudy   0.113    0.187      0.25\n",
      "\n",
      "\n"
     ]
    }
   ],
   "source": [
    "#iterate through hyper paramets\n",
    "for k in [5,50,100]:\n",
    "    column_name = f'OLS_k{k}'\n",
    "    sorted_df=df.sort_values(by=column_name, ascending=False) #sort the data frame based on the outlier scores of k\n",
    "\n",
    "    #show rows of top 4 outliers of k\n",
    "    print(\"Top 4 outliers for k=\",k,\"\\n\")\n",
    "    print(sorted_df.head(4).to_string())\n",
    "\n",
    "    print(\"\\n\")\n",
    "\n",
    "    #show rows 2 most normal ok k\n",
    "    print(\"2 most normal for k=\",k,\"\\n\")\n",
    "    print(sorted_df.tail(2).to_string())\n",
    "\n",
    "    print(\"\\n\")"
   ]
  }
 ],
 "metadata": {
  "kernelspec": {
   "display_name": "Python 3",
   "language": "python",
   "name": "python3"
  },
  "language_info": {
   "codemirror_mode": {
    "name": "ipython",
    "version": 3
   },
   "file_extension": ".py",
   "mimetype": "text/x-python",
   "name": "python",
   "nbconvert_exporter": "python",
   "pygments_lexer": "ipython3",
   "version": "3.12.0"
  }
 },
 "nbformat": 4,
 "nbformat_minor": 2
}
